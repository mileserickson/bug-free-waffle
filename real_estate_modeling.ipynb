{
 "cells": [
  {
   "cell_type": "code",
   "execution_count": 1,
   "metadata": {},
   "outputs": [],
   "source": [
    "%load_ext autoreload\n",
    "%autoreload 2"
   ]
  },
  {
   "cell_type": "code",
   "execution_count": 33,
   "metadata": {},
   "outputs": [],
   "source": [
    "import pandas as pd\n",
    "from data_loader import load_sales_data, load_bldg_df\n",
    "from pricing_model import predict_sale_price\n",
    "from sklearn.model_selection import train_test_split"
   ]
  },
  {
   "cell_type": "code",
   "execution_count": 48,
   "metadata": {},
   "outputs": [],
   "source": [
    "sales_data = load_sales_data()"
   ]
  },
  {
   "cell_type": "code",
   "execution_count": 49,
   "metadata": {},
   "outputs": [],
   "source": [
    "sales_data['year'] = sales_data['DocumentDate'].apply(\n",
    "    lambda doc_date: doc_date.rpartition('/')[2])\n",
    "\n",
    "sales_data = sales_data[sales_data['year']=='2019']"
   ]
  },
  {
   "cell_type": "code",
   "execution_count": 50,
   "metadata": {},
   "outputs": [
    {
     "data": {
      "text/plain": [
       "32     7955080170\n",
       "260    0321030230\n",
       "321    0321030080\n",
       "343    0421069050\n",
       "359    2140900110\n",
       "Name: ParcelID, dtype: object"
      ]
     },
     "execution_count": 50,
     "metadata": {},
     "output_type": "execute_result"
    }
   ],
   "source": [
    "sales_data['ParcelID'].head()"
   ]
  },
  {
   "cell_type": "code",
   "execution_count": 51,
   "metadata": {},
   "outputs": [
    {
     "data": {
      "text/plain": [
       "320124"
      ]
     },
     "execution_count": 51,
     "metadata": {},
     "output_type": "execute_result"
    }
   ],
   "source": [
    "predict_sale_price('7955080170')"
   ]
  },
  {
   "cell_type": "code",
   "execution_count": null,
   "metadata": {},
   "outputs": [],
   "source": [
    "sales_data.corr().sort_values(by='SalePrice')"
   ]
  },
  {
   "cell_type": "code",
   "execution_count": null,
   "metadata": {},
   "outputs": [],
   "source": [
    "sales_data[['SqFtTotLiving', 'BldgGrade']].corr()"
   ]
  },
  {
   "cell_type": "code",
   "execution_count": null,
   "metadata": {},
   "outputs": [],
   "source": [
    "X = sales_data.drop('SalePrice', axis=1)\n",
    "y = sales_data['SalePrice']"
   ]
  },
  {
   "cell_type": "code",
   "execution_count": null,
   "metadata": {},
   "outputs": [],
   "source": [
    "X_train, X_test, y_train, y_test = train_test_split(X, y)"
   ]
  },
  {
   "cell_type": "code",
   "execution_count": null,
   "metadata": {},
   "outputs": [],
   "source": [
    "y_pred = X_test['ParcelID'].apply(predict_sale_price)"
   ]
  },
  {
   "cell_type": "code",
   "execution_count": null,
   "metadata": {},
   "outputs": [],
   "source": [
    "from sklearn.metrics import (\n",
    "    mean_absolute_error,\n",
    "    mean_squared_error,\n",
    "    median_absolute_error\n",
    ")\n",
    "import numpy as np"
   ]
  },
  {
   "cell_type": "code",
   "execution_count": null,
   "metadata": {},
   "outputs": [],
   "source": [
    "median_absolute_error(y_test, y_pred)"
   ]
  },
  {
   "cell_type": "code",
   "execution_count": null,
   "metadata": {},
   "outputs": [],
   "source": [
    "# Baseline: 320124\n",
    "# Linear Regression on SqFt: 307123"
   ]
  },
  {
   "cell_type": "code",
   "execution_count": null,
   "metadata": {},
   "outputs": [],
   "source": [
    "from sklearn.linear_model import LinearRegression"
   ]
  },
  {
   "cell_type": "code",
   "execution_count": null,
   "metadata": {},
   "outputs": [],
   "source": [
    "lr = LinearRegression()"
   ]
  },
  {
   "cell_type": "code",
   "execution_count": null,
   "metadata": {},
   "outputs": [],
   "source": [
    "lr.fit(X_train[['SqFtTotLiving']], y_train)"
   ]
  },
  {
   "cell_type": "code",
   "execution_count": null,
   "metadata": {},
   "outputs": [],
   "source": [
    "y_pred = lr.predict(X_test[['SqFtTotLiving']])"
   ]
  },
  {
   "cell_type": "code",
   "execution_count": null,
   "metadata": {},
   "outputs": [],
   "source": [
    "median_absolute_error(y_test, y_pred)"
   ]
  },
  {
   "cell_type": "code",
   "execution_count": null,
   "metadata": {},
   "outputs": [],
   "source": [
    "sales_data.head()"
   ]
  },
  {
   "cell_type": "code",
   "execution_count": 52,
   "metadata": {},
   "outputs": [],
   "source": [
    "bldg_df = load_bldg_df()\n",
    "parcel_id = '7955080170'\n",
    "parcel_data = bldg_df[bldg_df['ParcelID'] == parcel_id]"
   ]
  },
  {
   "cell_type": "code",
   "execution_count": 56,
   "metadata": {},
   "outputs": [
    {
     "data": {
      "text/plain": [
       "{'Major': '795508',\n",
       " 'Minor': '0170',\n",
       " 'BldgNbr': 1,\n",
       " 'NbrLivingUnits': 1,\n",
       " 'Address': '19618   138TH AVE SE  98058',\n",
       " 'BuildingNumber': '19618',\n",
       " 'Fraction': '   ',\n",
       " 'DirectionPrefix': '  ',\n",
       " 'StreetName': '138TH                    ',\n",
       " 'StreetType': 'AVE   ',\n",
       " 'DirectionSuffix': 'SE',\n",
       " 'ZipCode': '98058',\n",
       " 'Stories': 1.0,\n",
       " 'BldgGrade': 7,\n",
       " 'BldgGradeVar': 0,\n",
       " 'SqFt1stFloor': 980,\n",
       " 'SqFtHalfFloor': 0,\n",
       " 'SqFt2ndFloor': 0,\n",
       " 'SqFtUpperFloor': 0,\n",
       " 'SqFtUnfinFull': 0,\n",
       " 'SqFtUnfinHalf': 0,\n",
       " 'SqFtTotLiving': 980,\n",
       " 'SqFtTotBasement': 0,\n",
       " 'SqFtFinBasement': 0,\n",
       " 'FinBasementGrade': 0,\n",
       " 'SqFtGarageBasement': 0,\n",
       " 'SqFtGarageAttached': 520,\n",
       " 'DaylightBasement': ' ',\n",
       " 'SqFtOpenPorch': 70,\n",
       " 'SqFtEnclosedPorch': 0,\n",
       " 'SqFtDeck': 0,\n",
       " 'HeatSystem': 5,\n",
       " 'HeatSource': 2,\n",
       " 'BrickStone': 0,\n",
       " 'ViewUtilization': ' ',\n",
       " 'Bedrooms': 2,\n",
       " 'BathHalfCount': 0,\n",
       " 'Bath3qtrCount': 1,\n",
       " 'BathFullCount': 1,\n",
       " 'FpSingleStory': 1,\n",
       " 'FpMultiStory': 0,\n",
       " 'FpFreestanding': 0,\n",
       " 'FpAdditional': 0,\n",
       " 'YrBuilt': 1982,\n",
       " 'YrRenovated': 0,\n",
       " 'PcntComplete': 0,\n",
       " 'Obsolescence': 0,\n",
       " 'PcntNetCondition': 0,\n",
       " 'Condition': 4,\n",
       " 'AddnlCost': 0,\n",
       " 'ParcelID': '7955080170'}"
      ]
     },
     "execution_count": 56,
     "metadata": {},
     "output_type": "execute_result"
    }
   ],
   "source": [
    "from data_loader import get_features\n",
    "get_features(parcel_id)"
   ]
  },
  {
   "cell_type": "code",
   "execution_count": null,
   "metadata": {},
   "outputs": [],
   "source": []
  }
 ],
 "metadata": {
  "kernelspec": {
   "display_name": "Python 3",
   "language": "python",
   "name": "python3"
  },
  "language_info": {
   "codemirror_mode": {
    "name": "ipython",
    "version": 3
   },
   "file_extension": ".py",
   "mimetype": "text/x-python",
   "name": "python",
   "nbconvert_exporter": "python",
   "pygments_lexer": "ipython3",
   "version": "3.7.3"
  }
 },
 "nbformat": 4,
 "nbformat_minor": 2
}
